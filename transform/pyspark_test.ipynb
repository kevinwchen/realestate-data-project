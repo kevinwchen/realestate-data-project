{
 "cells": [
  {
   "cell_type": "code",
   "execution_count": 1,
   "metadata": {},
   "outputs": [
    {
     "data": {
      "text/plain": [
       "True"
      ]
     },
     "execution_count": 1,
     "metadata": {},
     "output_type": "execute_result"
    }
   ],
   "source": [
    "# Add imports\n",
    "import os\n",
    "from dotenv import load_dotenv\n",
    "load_dotenv()"
   ]
  },
  {
   "cell_type": "code",
   "execution_count": 2,
   "metadata": {},
   "outputs": [],
   "source": [
    "# S3 bucket details\n",
    "access_key = os.getenv('AWS-ACCESS-KEY')\n",
    "secret_key = os.getenv('AWS-SECRET-KEY')\n",
    "bucket_name = os.getenv('AWS-BUCKET-NAME')\n",
    "json_file_path = \"properties.json\"\n",
    "delta_table_path = \"properties.parquet\""
   ]
  },
  {
   "cell_type": "code",
   "execution_count": 3,
   "metadata": {},
   "outputs": [],
   "source": [
    "# Set up Spark session\n",
    "from pyspark.sql import SparkSession\n",
    "from delta import *\n",
    "\n",
    "builder = SparkSession.builder \\\n",
    "    .appName(\"spark test\") \\\n",
    "    .config(\"spark.hadoop.fs.s3a.access.key\", access_key) \\\n",
    "    .config(\"spark.hadoop.fs.s3a.secret.key\", secret_key) \\\n",
    "    .config(\"spark.sql.extensions\", \"io.delta.sql.DeltaSparkSessionExtension\") \\\n",
    "    .config(\"spark.sql.catalog.spark_catalog\", \"org.apache.spark.sql.delta.catalog.DeltaCatalog\")\n",
    "\n",
    "spark = configure_spark_with_delta_pip(builder).getOrCreate()"
   ]
  },
  {
   "cell_type": "code",
   "execution_count": 4,
   "metadata": {},
   "outputs": [],
   "source": [
    "# Read JSON file into dataframe\n",
    "df = spark.read.option(\"multiline\",\"true\").json(f\"s3a://{bucket_name}/{json_file_path}\")"
   ]
  },
  {
   "cell_type": "code",
   "execution_count": 6,
   "metadata": {},
   "outputs": [
    {
     "ename": "AnalysisException",
     "evalue": "Found invalid character(s) among ' ,;{}()\\n\\t=' in the column names of your schema. \nPlease enable Column Mapping on your Delta table with mapping mode 'name'.\nYou can use one of the following commands.\n\nIf your table is already on the required protocol version:\nALTER TABLE table_name SET TBLPROPERTIES ('delta.columnMapping.mode' = 'name')\n\nIf your table is not on the required protocol version and requires a protocol upgrade:\nALTER TABLE table_name SET TBLPROPERTIES (\n   'delta.columnMapping.mode' = 'name',\n   'delta.minReaderVersion' = '2',\n   'delta.minWriterVersion' = '5')\n",
     "output_type": "error",
     "traceback": [
      "\u001b[1;31m---------------------------------------------------------------------------\u001b[0m",
      "\u001b[1;31mAnalysisException\u001b[0m                         Traceback (most recent call last)",
      "Cell \u001b[1;32mIn[6], line 2\u001b[0m\n\u001b[0;32m      1\u001b[0m \u001b[39m# Convert dataframe to Delta Lake table\u001b[39;00m\n\u001b[1;32m----> 2\u001b[0m df\u001b[39m.\u001b[39;49mwrite\u001b[39m.\u001b[39;49mformat(\u001b[39m\"\u001b[39;49m\u001b[39mdelta\u001b[39;49m\u001b[39m\"\u001b[39;49m)\u001b[39m.\u001b[39;49msave(\u001b[39mf\u001b[39;49m\u001b[39m\"\u001b[39;49m\u001b[39ms3a://\u001b[39;49m\u001b[39m{\u001b[39;49;00mbucket_name\u001b[39m}\u001b[39;49;00m\u001b[39m/\u001b[39;49m\u001b[39m{\u001b[39;49;00mdelta_table_path\u001b[39m}\u001b[39;49;00m\u001b[39m\"\u001b[39;49m)\n",
      "File \u001b[1;32mc:\\Users\\Kevin\\AppData\\Local\\Programs\\Python\\Python39\\lib\\site-packages\\pyspark\\sql\\readwriter.py:968\u001b[0m, in \u001b[0;36mDataFrameWriter.save\u001b[1;34m(self, path, format, mode, partitionBy, **options)\u001b[0m\n\u001b[0;32m    966\u001b[0m     \u001b[39mself\u001b[39m\u001b[39m.\u001b[39m_jwrite\u001b[39m.\u001b[39msave()\n\u001b[0;32m    967\u001b[0m \u001b[39melse\u001b[39;00m:\n\u001b[1;32m--> 968\u001b[0m     \u001b[39mself\u001b[39;49m\u001b[39m.\u001b[39;49m_jwrite\u001b[39m.\u001b[39;49msave(path)\n",
      "File \u001b[1;32mc:\\Users\\Kevin\\AppData\\Local\\Programs\\Python\\Python39\\lib\\site-packages\\py4j\\java_gateway.py:1321\u001b[0m, in \u001b[0;36mJavaMember.__call__\u001b[1;34m(self, *args)\u001b[0m\n\u001b[0;32m   1315\u001b[0m command \u001b[39m=\u001b[39m proto\u001b[39m.\u001b[39mCALL_COMMAND_NAME \u001b[39m+\u001b[39m\\\n\u001b[0;32m   1316\u001b[0m     \u001b[39mself\u001b[39m\u001b[39m.\u001b[39mcommand_header \u001b[39m+\u001b[39m\\\n\u001b[0;32m   1317\u001b[0m     args_command \u001b[39m+\u001b[39m\\\n\u001b[0;32m   1318\u001b[0m     proto\u001b[39m.\u001b[39mEND_COMMAND_PART\n\u001b[0;32m   1320\u001b[0m answer \u001b[39m=\u001b[39m \u001b[39mself\u001b[39m\u001b[39m.\u001b[39mgateway_client\u001b[39m.\u001b[39msend_command(command)\n\u001b[1;32m-> 1321\u001b[0m return_value \u001b[39m=\u001b[39m get_return_value(\n\u001b[0;32m   1322\u001b[0m     answer, \u001b[39mself\u001b[39;49m\u001b[39m.\u001b[39;49mgateway_client, \u001b[39mself\u001b[39;49m\u001b[39m.\u001b[39;49mtarget_id, \u001b[39mself\u001b[39;49m\u001b[39m.\u001b[39;49mname)\n\u001b[0;32m   1324\u001b[0m \u001b[39mfor\u001b[39;00m temp_arg \u001b[39min\u001b[39;00m temp_args:\n\u001b[0;32m   1325\u001b[0m     temp_arg\u001b[39m.\u001b[39m_detach()\n",
      "File \u001b[1;32mc:\\Users\\Kevin\\AppData\\Local\\Programs\\Python\\Python39\\lib\\site-packages\\pyspark\\sql\\utils.py:196\u001b[0m, in \u001b[0;36mcapture_sql_exception.<locals>.deco\u001b[1;34m(*a, **kw)\u001b[0m\n\u001b[0;32m    192\u001b[0m converted \u001b[39m=\u001b[39m convert_exception(e\u001b[39m.\u001b[39mjava_exception)\n\u001b[0;32m    193\u001b[0m \u001b[39mif\u001b[39;00m \u001b[39mnot\u001b[39;00m \u001b[39misinstance\u001b[39m(converted, UnknownException):\n\u001b[0;32m    194\u001b[0m     \u001b[39m# Hide where the exception came from that shows a non-Pythonic\u001b[39;00m\n\u001b[0;32m    195\u001b[0m     \u001b[39m# JVM exception message.\u001b[39;00m\n\u001b[1;32m--> 196\u001b[0m     \u001b[39mraise\u001b[39;00m converted \u001b[39mfrom\u001b[39;00m \u001b[39mNone\u001b[39m\n\u001b[0;32m    197\u001b[0m \u001b[39melse\u001b[39;00m:\n\u001b[0;32m    198\u001b[0m     \u001b[39mraise\u001b[39;00m\n",
      "\u001b[1;31mAnalysisException\u001b[0m: Found invalid character(s) among ' ,;{}()\\n\\t=' in the column names of your schema. \nPlease enable Column Mapping on your Delta table with mapping mode 'name'.\nYou can use one of the following commands.\n\nIf your table is already on the required protocol version:\nALTER TABLE table_name SET TBLPROPERTIES ('delta.columnMapping.mode' = 'name')\n\nIf your table is not on the required protocol version and requires a protocol upgrade:\nALTER TABLE table_name SET TBLPROPERTIES (\n   'delta.columnMapping.mode' = 'name',\n   'delta.minReaderVersion' = '2',\n   'delta.minWriterVersion' = '5')\n"
     ]
    }
   ],
   "source": [
    "# Convert dataframe to Delta Lake table\n",
    "df.write.format(\"delta\").save(f\"s3a://{bucket_name}/{delta_table_path}\")"
   ]
  },
  {
   "cell_type": "code",
   "execution_count": 7,
   "metadata": {},
   "outputs": [
    {
     "name": "stdout",
     "output_type": "stream",
     "text": [
      "root\n",
      " |-- address: struct (nullable = true)\n",
      " |    |-- locality: string (nullable = true)\n",
      " |    |-- location: struct (nullable = true)\n",
      " |    |    |-- latitude: double (nullable = true)\n",
      " |    |    |-- longitude: double (nullable = true)\n",
      " |    |-- postcode: string (nullable = true)\n",
      " |    |-- showAddress: boolean (nullable = true)\n",
      " |    |-- state: string (nullable = true)\n",
      " |    |-- streetAddress: string (nullable = true)\n",
      " |    |-- subdivisionCode: string (nullable = true)\n",
      " |    |-- suburb: string (nullable = true)\n",
      " |-- advertising: struct (nullable = true)\n",
      " |    |-- priceRange: string (nullable = true)\n",
      " |    |-- region: string (nullable = true)\n",
      " |-- agency: struct (nullable = true)\n",
      " |    |-- address: struct (nullable = true)\n",
      " |    |    |-- postcode: string (nullable = true)\n",
      " |    |    |-- state: string (nullable = true)\n",
      " |    |    |-- streetAddress: string (nullable = true)\n",
      " |    |    |-- suburb: string (nullable = true)\n",
      " |    |-- agencyId: string (nullable = true)\n",
      " |    |-- brandingColors: struct (nullable = true)\n",
      " |    |    |-- primary: string (nullable = true)\n",
      " |    |    |-- text: string (nullable = true)\n",
      " |    |-- email: string (nullable = true)\n",
      " |    |-- logo: struct (nullable = true)\n",
      " |    |    |-- images: array (nullable = true)\n",
      " |    |    |    |-- element: struct (containsNull = true)\n",
      " |    |    |    |    |-- name: string (nullable = true)\n",
      " |    |    |    |    |-- server: string (nullable = true)\n",
      " |    |    |    |    |-- uri: string (nullable = true)\n",
      " |    |    |-- links: struct (nullable = true)\n",
      " |    |    |    |-- default: string (nullable = true)\n",
      " |    |    |    |-- hero image: string (nullable = true)\n",
      " |    |    |    |-- large: string (nullable = true)\n",
      " |    |    |    |-- small: string (nullable = true)\n",
      " |    |-- name: string (nullable = true)\n",
      " |    |-- phoneNumber: string (nullable = true)\n",
      " |    |-- website: string (nullable = true)\n",
      " |-- agencyListingId: string (nullable = true)\n",
      " |-- applyOnline: boolean (nullable = true)\n",
      " |-- bond: struct (nullable = true)\n",
      " |    |-- display: string (nullable = true)\n",
      " |    |-- value: long (nullable = true)\n",
      " |-- calculator: struct (nullable = true)\n",
      " |    |-- brandingColors: struct (nullable = true)\n",
      " |    |    |-- primary: string (nullable = true)\n",
      " |    |    |-- text: string (nullable = true)\n",
      " |    |-- subtitle: string (nullable = true)\n",
      " |    |-- title: string (nullable = true)\n",
      " |-- channel: string (nullable = true)\n",
      " |-- classicProject: boolean (nullable = true)\n",
      " |-- dateAvailable: struct (nullable = true)\n",
      " |    |-- date: string (nullable = true)\n",
      " |    |-- dateDisplay: string (nullable = true)\n",
      " |-- description: string (nullable = true)\n",
      " |-- featured: boolean (nullable = true)\n",
      " |-- features: struct (nullable = true)\n",
      " |    |-- general: struct (nullable = true)\n",
      " |    |    |-- bathrooms: long (nullable = true)\n",
      " |    |    |-- bedrooms: long (nullable = true)\n",
      " |    |    |-- parkingSpaces: long (nullable = true)\n",
      " |-- generalFeatures: struct (nullable = true)\n",
      " |    |-- bathrooms: struct (nullable = true)\n",
      " |    |    |-- label: string (nullable = true)\n",
      " |    |    |-- type: string (nullable = true)\n",
      " |    |    |-- value: long (nullable = true)\n",
      " |    |-- bedrooms: struct (nullable = true)\n",
      " |    |    |-- label: string (nullable = true)\n",
      " |    |    |-- type: string (nullable = true)\n",
      " |    |    |-- value: long (nullable = true)\n",
      " |    |-- parkingSpaces: struct (nullable = true)\n",
      " |    |    |-- label: string (nullable = true)\n",
      " |    |    |-- type: string (nullable = true)\n",
      " |    |    |-- value: long (nullable = true)\n",
      " |-- images: array (nullable = true)\n",
      " |    |-- element: struct (containsNull = true)\n",
      " |    |    |-- id: string (nullable = true)\n",
      " |    |    |-- name: string (nullable = true)\n",
      " |    |    |-- resize: boolean (nullable = true)\n",
      " |    |    |-- server: string (nullable = true)\n",
      " |    |    |-- uri: string (nullable = true)\n",
      " |    |    |-- video: boolean (nullable = true)\n",
      " |-- inspectionsAndAuctions: array (nullable = true)\n",
      " |    |-- element: string (containsNull = true)\n",
      " |-- isBuyChannel: boolean (nullable = true)\n",
      " |-- isRentChannel: boolean (nullable = true)\n",
      " |-- isSoldChannel: boolean (nullable = true)\n",
      " |-- lister: struct (nullable = true)\n",
      " |    |-- email: string (nullable = true)\n",
      " |    |-- id: string (nullable = true)\n",
      " |    |-- mainPhoto: struct (nullable = true)\n",
      " |    |    |-- name: string (nullable = true)\n",
      " |    |    |-- server: string (nullable = true)\n",
      " |    |    |-- uri: string (nullable = true)\n",
      " |    |-- name: string (nullable = true)\n",
      " |    |-- phoneNumber: string (nullable = true)\n",
      " |    |-- website: string (nullable = true)\n",
      " |-- listers: array (nullable = true)\n",
      " |    |-- element: struct (containsNull = true)\n",
      " |    |    |-- email: string (nullable = true)\n",
      " |    |    |-- id: string (nullable = true)\n",
      " |    |    |-- mainPhoto: struct (nullable = true)\n",
      " |    |    |    |-- name: string (nullable = true)\n",
      " |    |    |    |-- server: string (nullable = true)\n",
      " |    |    |    |-- uri: string (nullable = true)\n",
      " |    |    |-- name: string (nullable = true)\n",
      " |    |    |-- phoneNumber: string (nullable = true)\n",
      " |    |    |-- website: string (nullable = true)\n",
      " |-- listingId: string (nullable = true)\n",
      " |-- mainImage: struct (nullable = true)\n",
      " |    |-- name: string (nullable = true)\n",
      " |    |-- server: string (nullable = true)\n",
      " |    |-- uri: string (nullable = true)\n",
      " |-- midtier: boolean (nullable = true)\n",
      " |-- modifiedDate: struct (nullable = true)\n",
      " |    |-- value: string (nullable = true)\n",
      " |-- prettyUrl: string (nullable = true)\n",
      " |-- price: struct (nullable = true)\n",
      " |    |-- display: string (nullable = true)\n",
      " |-- productDepth: string (nullable = true)\n",
      " |-- propertyFeatures: array (nullable = true)\n",
      " |    |-- element: struct (containsNull = true)\n",
      " |    |    |-- features: array (nullable = true)\n",
      " |    |    |    |-- element: string (containsNull = true)\n",
      " |    |    |-- label: string (nullable = true)\n",
      " |    |    |-- section: string (nullable = true)\n",
      " |-- propertyType: string (nullable = true)\n",
      " |-- showAgencyLogo: boolean (nullable = true)\n",
      " |-- signature: boolean (nullable = true)\n",
      " |-- signatureProject: boolean (nullable = true)\n",
      " |-- standard: boolean (nullable = true)\n",
      " |-- status: struct (nullable = true)\n",
      " |    |-- label: string (nullable = true)\n",
      " |    |-- type: string (nullable = true)\n",
      " |-- title: string (nullable = true)\n",
      "\n"
     ]
    }
   ],
   "source": [
    "df.printSchema()"
   ]
  },
  {
   "cell_type": "code",
   "execution_count": 8,
   "metadata": {},
   "outputs": [
    {
     "name": "stdout",
     "output_type": "stream",
     "text": [
      "+--------------------+--------------------+--------------------+--------------------+-----------+--------------+--------------------+-------+--------------+--------------------+--------------------+--------+-----------+--------------------+--------------------+----------------------+------------+-------------+-------------+--------------------+--------------------+---------+--------------------+-------+------------+--------------------+--------------------+------------+--------------------+------------+--------------+---------+----------------+--------+------------------+--------------------+\n",
      "|             address|         advertising|              agency|     agencyListingId|applyOnline|          bond|          calculator|channel|classicProject|       dateAvailable|         description|featured|   features|     generalFeatures|              images|inspectionsAndAuctions|isBuyChannel|isRentChannel|isSoldChannel|              lister|             listers|listingId|           mainImage|midtier|modifiedDate|           prettyUrl|               price|productDepth|    propertyFeatures|propertyType|showAgencyLogo|signature|signatureProject|standard|            status|               title|\n",
      "+--------------------+--------------------+--------------------+--------------------+-----------+--------------+--------------------+-------+--------------+--------------------+--------------------+--------+-----------+--------------------+--------------------+----------------------+------------+-------------+-------------+--------------------+--------------------+---------+--------------------+-------+------------+--------------------+--------------------+------------+--------------------+------------+--------------+---------+----------------+--------+------------------+--------------------+\n",
      "|{Chatswood, {-33....|{1000pw_2000pw, u...|{{2067, NSW, SHOP...|            R3083948|      false|{$7,800, 7800}|{{#ffffff, #e4002...|   rent|         false|{09 Jun 2023, 09 ...|Positioned on lev...|   false|{{2, 3, 2}}|{{Bathrooms: 2, b...|[{null, photo, nu...|                    []|       false|         true|        false|{h.zhang@raywhite...|[{h.zhang@raywhit...|436821788|{main photo, http...|  false|          {}|property-apartmen...|   {$1,950 Per Week}|   signature|[{[Carport: 2], O...|   apartment|          true|     true|           false|   false|{New, new_listing}|Indulge In Luxury...|\n",
      "|{Chatswood, {-33....|                null|{{2067, NSW, 75 A...|             1P17915|      false|          null|{{#ffffff, #e4002...|   rent|         false|{13 Apr 2023, Ava...|A character home ...|   false|{{1, 3, 1}}|{{Bathrooms: 1, b...|[{null, photo, nu...|                    []|       false|         true|        false|{jessie.tian@shea...|[{jessie.tian@she...|436619460|{main photo, http...|  false|          {}|property-house-ns...|     {$950 per week}|   signature|[{[Garage: 1], Ou...|       house|          true|     true|           false|   false|              null|SPACIOUS AND CONV...|\n",
      "|{Chatswood, {-33....|                null|{{2067, NSW, Suit...|        NSW107516471|      false|{$3,800, 3800}|{{#ffffff, #e4002...|   rent|         false|{13 Apr 2023, Ava...|Superb contempora...|   false|{{2, 2, 1}}|{{Bathrooms: 2, b...|[{null, photo, nu...|                    []|       false|         true|        false|{leasing@c21seiwa...|[{leasing@c21seiw...|436529672|{main photo, http...|  false|          {}|property-apartmen...|     {$950 Per Week}|   signature|[{[Open Spaces: 1...|   apartment|          true|     true|           false|   false|              null|Executive Mirvac ...|\n",
      "|{Chatswood, {-33....|                null|{{2000, NSW, Leve...|2d4b8952-ab75-463...|      false|{$2,800, 2800}|{{#ffffff, #e4002...|   rent|         false|{04 May 2023, Ava...|Luxurious Selecti...|   false|{{1, 1, 0}}|{{Bathrooms: 1, b...|[{null, photo, nu...|                    []|       false|         true|        false|{centrium.leasing...|[{centrium.leasin...|428783894|{main photo, http...|  false|          {}|property-apartmen...|     {$700 per week}|   signature|[{[Balcony, Secur...|   apartment|          true|     true|           false|   false|              null|LUXURY APARTMENTS...|\n",
      "|{Chatswood, {-33....|                null|{{2067, NSW, Suit...|             2113328|      false|{$3,400, 3400}|{{#ffffff, #e4002...|   rent|         false|{15 May 2023, 15 ...|Great 2 bedroom A...|   false|{{2, 2, 1}}|{{Bathrooms: 2, b...|[{null, photo, nu...|                    []|       false|         true|        false|{cindy@fnrr.com.a...|[{cindy@fnrr.com....|436716888|{main photo, http...|  false|          {}|property-apartmen...|     {DEPOSIT TAKEN}|   signature|[{[Balcony, Open ...|   apartment|          true|     true|           false|   false|              null|Located in the he...|\n",
      "|{Chatswood, {-33....|                null|{{2066, NSW, 32 B...|           100P37148|      false|{$3,800, 3800}|{{#ffffff, #e4002...|   rent|         false|{18 May 2023, 18 ...|This spacious top...|   false|{{2, 2, 1}}|{{Bathrooms: 2, b...|[{null, photo, nu...|                    []|       false|         true|        false|{chlc@mail.inspec...|[{chlc@mail.inspe...|436716344|{main photo, http...|  false|          {}|property-apartmen...|     {$950 per week}|   signature|[{[Open Spaces: 1...|   apartment|          true|     true|           false|   false|              null|Two-bedroom apart...|\n",
      "|{Chatswood, {-33....|                null|{{2067, NSW, 75 A...|             1P17885|      false|          null|{{#ffffff, #e4002...|   rent|         false|{25 Apr 2023, Ava...|A recent update e...|   false|{{1, 2, 1}}|{{Bathrooms: 1, b...|[{null, photo, nu...|                    []|       false|         true|        false|{danila.scerbo@sh...|[{danila.scerbo@s...|436525576|{main photo, http...|  false|          {}|property-unit-nsw...|{DEPOSIT TAKEN BY...|   signature|[{[Garage: 1], Ou...|        unit|          true|     true|           false|   false|              null|TASTEFULLY RENOVA...|\n",
      "|{Chatswood, {-33....|                null|{{2067, NSW, 75 A...|             1P17883|      false|          null|{{#ffffff, #e4002...|   rent|         false|{18 Apr 2023, Ava...|INSPECTION CANCEL...|   false|{{1, 2, 1}}|{{Bathrooms: 1, b...|[{null, photo, nu...|                    []|       false|         true|        false|{jessie.tian@shea...|[{jessie.tian@she...|436522628|{main photo, http...|  false|          {}|property-unit-nsw...|{DEPOSIT TAKEN BY...|   signature|[{[Garage: 1], Ou...|        unit|          true|     true|           false|   false|              null|VERY SPACIOUS & F...|\n",
      "|{Chatswood, {-33....|                null|{{2000, NSW, Leve...|9a47032f-a9c5-4aa...|      false|{$3,200, 3200}|{{#ffffff, #e4002...|   rent|         false|{09 May 2023, Ava...|Luxurious Selecti...|   false|{{1, 1, 1}}|{{Bathrooms: 1, b...|[{null, photo, nu...|                    []|       false|         true|        false|{centrium.leasing...|[{centrium.leasin...|429352534|{main photo, http...|  false|          {}|property-apartmen...|     {$800 per week}|   signature|[{[Balcony, Garag...|   apartment|          true|     true|           false|   false|              null|PERFECTLY LOCATED...|\n",
      "|{Chatswood, {-33....|                null|{{2067, NSW, SHOP...|            R3059123|      false|{$4,000, 4000}|{{#ffffff, #e4002...|   rent|         false|{13 Apr 2023, Ava...|Recognised as one...|   false|{{2, 2, 1}}|{{Bathrooms: 2, b...|[{null, photo, nu...|                    []|       false|         true|        false|{lyanne.lee@raywh...|[{lyanne.lee@rayw...|436610296|{main photo, http...|  false|          {}|property-unit-nsw...| {$1000.00 Per Week}|   signature|[{[Carport: 1], O...|        unit|          true|     true|           false|   false|              null|Split level unit ...|\n",
      "|{Chatswood, {-33....|                null|{{2074, NSW, 1-3 ...|             1P27938|      false|{$5,600, 5600}|{{#ffffff, #e4002...|   rent|         false|{20 Mar 2023, Ava...|Conveniently loca...|   false|{{3, 5, 2}}|{{Bathrooms: 3, b...|[{null, photo, nu...|                    []|       false|         true|        false|{leasing@chadwick...|[{leasing@chadwic...|436415100|{main photo, http...|  false|          {}|property-house-ns...|          {$1400 pw}|   signature|[{[Garage: 2], Ou...|       house|          true|     true|           false|   false|              null|Beautiful Family ...|\n",
      "|{Chatswood, {-33....|                null|{{2067, NSW, 760 ...|1e0f23c0-2bf4-462...|      false|          null|{{#ffffff, #e4002...|   rent|         false|{28 Apr 2023, Ava...|Inspection by app...|   false|{{2, 2, 1}}|{{Bathrooms: 2, b...|[{null, photo, nu...|                    []|       false|         true|        false|{qing@accesshome....|[{qing@accesshome...|415254967|{main photo, http...|  false|          {}|property-apartmen...|          {$1050 pw}|   signature|[{[Balcony, Carpo...|   apartment|          true|     true|           false|   false|              null|Fully furnished s...|\n",
      "|{Chatswood, {-33....|                null|{{2089, NSW, 5/15...|             1P80243|      false|          null|{{#ffffff, #e4002...|   rent|         false|{25 Apr 2023, Ava...|Set on the presti...|   false|{{1, 1, 1}}|{{Bathrooms: 1, b...|[{z2o7CJXbczA, vi...|                    []|       false|         true|        false|{bgiustini@dijone...|[{bgiustini@dijon...|436600448|{main photo, http...|  false|          {}|property-apartmen...|              {$730}|   signature|[{[Balcony, Open ...|   apartment|          true|     true|           false|   false|              null|North/East Facing...|\n",
      "|{Chatswood, {-33....|                null|{{2095, NSW, 54 W...|          22P1188826|      false|{$5,800, 5800}|{{#ffffff, #e4002...|   rent|         false|{09 Jun 2023, 09 ...|Features included...|   false|{{2, 4, 2}}|{{Bathrooms: 2, b...|[{null, photo, nu...|                    []|       false|         true|        false|{mcgrathcorporate...|[{mcgrathcorporat...|436819036|{main photo, http...|  false|          {}|property-house-ns...|         {$1,450 pw}|   signature|[{[Garage: 2], Ou...|       house|          true|     true|           false|   false|{New, new_listing}|Spacious renovate...|\n",
      "|{Chatswood, {-33....|                null|{{2000, NSW, Leve...|5a39b8e1-e05e-46f...|      false|{$2,520, 2520}|{{#ffffff, #e4002...|   rent|         false|{17 May 2023, 17 ...|NO PARKING WITH T...|   false|{{1, 1, 0}}|{{Bathrooms: 1, b...|[{null, photo, nu...|                    []|       false|         true|        false|{leura@oscarprope...|[{leura@oscarprop...|436709180|{main photo, http...|  false|          {}|property-apartmen...|     {$630 per week}|   signature|[{[Balcony, Swimm...|   apartment|          true|     true|           false|   false|              null|ONE BEDROOM UNIT ...|\n",
      "|{Chatswood, {-33....|                null|{{2067, NSW, Shop...|              1P0825|      false|          null|{{#ffffff, #e4002...|   rent|         false|{12 May 2023, Ava...|*Note - Inspectio...|   false|{{2, 3, 2}}|{{Bathrooms: 2, b...|[{DXeVQRsb94o, vi...|                    []|       false|         true|        false|{nino@goldenpeakp...|[{nino@goldenpeak...|436817796|{main photo, http...|  false|          {}|property-apartmen...|   {$2,000 per week}|   signature|[{[Open Spaces: 2...|   apartment|          true|     true|           false|   false|{New, new_listing}|Modern furnished ...|\n",
      "|{Chatswood, {-33....|                null|{{2131, NSW, Suit...|   capri_1_501701996|      false|          null|{{#ffffff, #e4002...|   rent|         false|{02 May 2023, Ava...|Fully furnished a...|   false|{{1, 1, 1}}|{{Bathrooms: 1, b...|[{null, photo, nu...|                    []|       false|         true|        false|{pauline@capripro...|[{pauline@capripr...|436709040|{main photo, http...|  false|          {}|property-apartmen...|     {$750 per week}|   signature|[{[Garage: 1, Sec...|   apartment|          true|     true|           false|   false|              null|Larger Studio in ...|\n",
      "|{Chatswood, {-33....|                null|{{2000, NSW, Leve...|29ea8b2f-f8a5-4fc...|      false|{$4,120, 4120}|{{#ffffff, #e4002...|   rent|         false|{06 May 2023, Ava...|Luxurious Selecti...|   false|{{2, 2, 1}}|{{Bathrooms: 2, b...|[{null, photo, nu...|                    []|       false|         true|        false|{centrium.leasing...|[{centrium.leasin...|418065422|{main photo, http...|  false|          {}|property-apartmen...|   {$1,030 per week}|   signature|[{[Balcony, Garag...|   apartment|          true|     true|           false|   false|              null|PERFECTLY LOCATED...|\n",
      "|{Chatswood, {-33....|                null|{{2067, NSW, SHOP...|            R3083576|      false|{$2,480, 2480}|{{#ffffff, #e4002...|   rent|         false|{12 May 2023, Ava...|Situated in the h...|   false|{{1, 1, 1}}|{{Bathrooms: 1, b...|[{null, photo, nu...|                    []|       false|         true|        false|{silvana.quattroc...|[{silvana.quattro...|436815444|{main photo, http...|  false|          {}|property-unit-nsw...|     {$620 Per Week}|   signature|[{[Carport: 1], O...|        unit|          true|     true|           false|   false|{New, new_listing}|Bright & Spacious...|\n",
      "|{Chatswood, {-33....|                null|{{2067, NSW, Suit...|        NSW107516791|      false|{$4,400, 4400}|{{#ffffff, #e4002...|   rent|         false|{09 May 2023, Ava...|This contemporary...|   false|{{2, 2, 1}}|{{Bathrooms: 2, b...|[{null, photo, nu...|                    []|       false|         true|        false|{leasing@c21seiwa...|[{leasing@c21seiw...|436705356|{main photo, http...|  false|          {}|property-apartmen...|   {$1,100 Per Week}|   signature|[{[Open Spaces: 1...|   apartment|          true|     true|           false|   false|              null|Luxury Apartment ...|\n",
      "+--------------------+--------------------+--------------------+--------------------+-----------+--------------+--------------------+-------+--------------+--------------------+--------------------+--------+-----------+--------------------+--------------------+----------------------+------------+-------------+-------------+--------------------+--------------------+---------+--------------------+-------+------------+--------------------+--------------------+------------+--------------------+------------+--------------+---------+----------------+--------+------------------+--------------------+\n",
      "only showing top 20 rows\n",
      "\n"
     ]
    }
   ],
   "source": [
    "df.show()"
   ]
  },
  {
   "cell_type": "code",
   "execution_count": 9,
   "metadata": {},
   "outputs": [],
   "source": [
    "spark.stop()"
   ]
  },
  {
   "cell_type": "code",
   "execution_count": null,
   "metadata": {},
   "outputs": [],
   "source": []
  }
 ],
 "metadata": {
  "kernelspec": {
   "display_name": "Python 3",
   "language": "python",
   "name": "python3"
  },
  "language_info": {
   "codemirror_mode": {
    "name": "ipython",
    "version": 3
   },
   "file_extension": ".py",
   "mimetype": "text/x-python",
   "name": "python",
   "nbconvert_exporter": "python",
   "pygments_lexer": "ipython3",
   "version": "3.9.13"
  },
  "orig_nbformat": 4
 },
 "nbformat": 4,
 "nbformat_minor": 2
}
